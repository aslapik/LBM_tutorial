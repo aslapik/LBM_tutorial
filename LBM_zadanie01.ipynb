{
 "cells": [
  {
   "cell_type": "markdown",
   "metadata": {},
   "source": [
    "# Lid driven cavity\n",
    "\n",
    "Nap\u0119dzane zag\u0142\u0119bienie w dw\u00f3ch wymiarach jest uk\u0142adem, kt\u00f3ry do dzisiejszego czasu jest przedmiotem bada\u0144 naukowych. Przyk\u0142adem mo\u017ce by\u0107 praca:\n",
    "\n",
    "http://www.math.sciences.univ-nantes.fr/~saad/cv/computersfluidsoriginalarticle.pdf\n",
    "\n",
    "Zbadajmy jak zachowuje sie taki uk\u0142ad.\n",
    "\n",
    "###Wykonaj:\n",
    "\n",
    "1. Uruchom poni\u017csz\u0105 symulacje dla parametr\u00f3w:\n",
    "\n",
    "     - $nu_{LB}=0.127$: parametr `-visc=0.127`\n",
    "     - pr\u0119dko\u015bci g\u00f3rnej \u015bcianki $u_{LB}=0.1$\n",
    "     - rozmiaru siatki uk\u0142adu $N=126$ \n",
    "     \n",
    "2. Oblicz liczb\u0119 Reynoldsa dla w/w uk\u0142adu oraz wielko\u015bci $\\Delta x$ i $\\Delta t$ w symulacji siatkowej. Przyjmij, \u017ce fizyczny uk\u0142ad ma rozmiar $L=1$ oraz pr\u0119dko\u015b\u0107 g\u00f3rnej \u015bcianki $v=1$. Niezb\u0119dne wzory s\u0105 na: http://sailfish.us.edu.pl/simulation_setup.html#mapping-physical-quantities-to-simulation-parameters\n",
    "\n",
    "3. Czy symulacja osiag\u0119\u0142a stan stacjonary? Analizuj dane otrzymane z symulacji za pomoc\u0105 elementu interaktywnego. Sprawd\u017a precyzyjnie to obliczaj\u0105\u0107 \u015bredni\u0105 wzgl\u0119dn\u0105  zmian\u0119 pola pr\u0119dko\u015bci w jednym kroku symulacji. \n",
    "\n",
    "4. Zwi\u0119ksz liczb\u0119 Re do 1000 i 10000 poprzez zmian\u0119 lepko\u015bi $\\nu_{LB}$. Wykonaj obliczenia, zwi\u0119kszaj\u0105c liczb\u0119 krok\u00f3w stosownie tak by otrzymac stan bliski stanowi stacjonarnemu.\n",
    "\n",
    "5. Por\u00f3wnaj otrzymane wyniki z tymi z pracy Bruneau i Saad'a.\n",
    "\n",
    "\n"
   ]
  },
  {
   "cell_type": "code",
   "execution_count": null,
   "metadata": {
    "collapsed": false
   },
   "outputs": [],
   "source": [
    "%matplotlib inline\n",
    "import matplotlib.pyplot as plt\n",
    "import numpy as np\n",
    "import sys,os\n",
    "sys.path.append('./sailfish/')\n",
    "if not (os.path.isdir('data') or os.path.islink('data')):\n",
    "    os.mkdir('data')\n"
   ]
  },
  {
   "cell_type": "code",
   "execution_count": null,
   "metadata": {
    "collapsed": false
   },
   "outputs": [],
   "source": [
    "%%writefile ldc01.py\n",
    "import numpy as np\n",
    "from sailfish.subdomain import Subdomain2D\n",
    "from sailfish.node_type import NTFullBBWall, NTEquilibriumVelocity\n",
    "from sailfish.controller import LBSimulationController\n",
    "from sailfish.lb_single import LBFluidSim\n",
    "\n",
    "class MyBlock(Subdomain2D):\n",
    "    max_v = 0.1\n",
    "\n",
    "    def boundary_conditions(self, hx, hy):\n",
    "        wall_map = ( (hx == self.gx-1) | (hx == 0) | (hy == 0) )\n",
    "        self.set_node( (hy == self.gy-1) & (hx>0) & (hx<self.gx-1) , NTEquilibriumVelocity((self.max_v, 0.0)) )\n",
    "        self.set_node(wall_map, NTFullBBWall)\n",
    "        \n",
    "    def initial_conditions(self, sim, hx, hy):\n",
    "        sim.rho[:] = 1.0\n",
    "\n",
    "class MySim(LBFluidSim):\n",
    "    subdomain = MyBlock\n",
    "\n",
    "LBSimulationController(MySim).run()"
   ]
  },
  {
   "cell_type": "code",
   "execution_count": null,
   "metadata": {
    "collapsed": false
   },
   "outputs": [],
   "source": [
    "%%sh\n",
    "rm data/ldc01*npz\n",
    "export PYTHONPATH=$PWD/sailfish/\n",
    "python ldc01.py --max_iters=10000 --every=1000 \\\n",
    " --lat_nx=126 --lat_ny=126 --model=mrt \\\n",
    " --visc=0.127\\\n",
    " --output=data/ldc01 --output_format=npy"
   ]
  },
  {
   "cell_type": "code",
   "execution_count": null,
   "metadata": {
    "collapsed": false
   },
   "outputs": [],
   "source": [
    "!ls data/ldc01* -rtla"
   ]
  },
  {
   "cell_type": "code",
   "execution_count": null,
   "metadata": {
    "collapsed": false
   },
   "outputs": [],
   "source": [
    "data = np.load(\"data/ldc01.0.10000.npz\")\n",
    "data.files"
   ]
  },
  {
   "cell_type": "code",
   "execution_count": null,
   "metadata": {
    "collapsed": false
   },
   "outputs": [],
   "source": [
    "data['v'][0].shape\n",
    "vx,vy = data['v'] \n",
    "ny,nx = vx.shape"
   ]
  },
  {
   "cell_type": "code",
   "execution_count": null,
   "metadata": {
    "collapsed": false
   },
   "outputs": [],
   "source": [
    "plt.imshow(np.sqrt(vx**2+vy**2),origin='top')"
   ]
  },
  {
   "cell_type": "code",
   "execution_count": null,
   "metadata": {
    "collapsed": false
   },
   "outputs": [],
   "source": [
    "Y,X = np.mgrid[0:ny,0:nx]\n",
    "plt.figure(figsize=(5,ny/nx*5))\n",
    "plt.xlim(1,nx-2)\n",
    "plt.ylim(1,ny-1)\n",
    "plt.contourf(X,Y,np.sqrt(vy**2+vx**2),256)\n",
    "plt.streamplot(X,Y,vx,vy,color='white')\n"
   ]
  },
  {
   "cell_type": "code",
   "execution_count": null,
   "metadata": {
    "collapsed": true
   },
   "outputs": [],
   "source": []
  },
  {
   "cell_type": "markdown",
   "metadata": {},
   "source": [
    "## Analiza czasowej ewolucji przep\u0142ywu\n",
    "\n",
    "Mo\u017cemy \u0142atwo przeanalizowa\u0107 przebieg symulacji z zapisanych pol makroskopowych na dysku. Poni\u017cszy kod:\n",
    " \n",
    " - wczytuje wszystkie pliki pasuj\u0105ce do wzorca `data/ldc01.*.npz`\n",
    " - korzystaj\u0105c z element\u00f3w interaktywnych w IPython, rysuje pole skalarne wybranej wielko\u015bci lub chwilewe linie  pr\u0105du w zadanym kroku czasowym\n",
    " \n",
    "`plt.imshow` jest najszybsz\u0105 metod\u0105 wizualizacji pola skalarnego. `plt.streamlines` jest du\u017co wolniejsze, dlatego dla zapewnienia p\u0142ynniejszego dzia\u0142ania warto mie\u0107 kontrol\u0119 nad tym co jest rysowane. W przypadku wi\u0119kszych p\u00f3\u0142 nale\u017cy u\u017cy\u0107 odpowieniego filtrowania za pomoc\u0105 techniki `slice` by rysowanie jednek klatki nie trwa\u0142o d\u0142ugo."
   ]
  },
  {
   "cell_type": "code",
   "execution_count": null,
   "metadata": {
    "collapsed": false
   },
   "outputs": [],
   "source": [
    "%%time \n",
    "import glob\n",
    "frames = []\n",
    "s = (slice(None),slice(None))\n",
    "for fn in sorted(glob.glob(\"data/ldc01.*.npz\")):\n",
    "    data =np.load(fn)\n",
    "    vx,vy = data['v']\n",
    "    rho = data['rho']\n",
    "    vx, vy  = vx[s],vy[s]\n",
    "    Dxvx,Dyvx = np.gradient(vx)\n",
    "    Dxvy,Dyvy = np.gradient(vy)\n",
    "    frames.append([vx, vy,Dyvx-Dxvy,rho])\n"
   ]
  },
  {
   "cell_type": "code",
   "execution_count": null,
   "metadata": {
    "collapsed": false
   },
   "outputs": [],
   "source": [
    "from IPython.html.widgets import interact, interactive, fixed\n",
    "from IPython.html import widgets\n",
    "ny,nx = frames[0][0].shape\n",
    "Y,X = np.mgrid[0:ny,0:nx]\n",
    "\n",
    "@interact(ith=widgets.IntSlider(min=0,max=len(frames)-1),\\\n",
    "          figsize=widgets.IntSlider(min=0,max=20,value=6),\\\n",
    "          sel=widgets.Dropdown(values={'vx':0, 'vy': 1, 'rot v': 2,'rho':3},value=0),\\\n",
    "         stream=widgets.Checkbox())\n",
    "def g(ith,figsize,sel,stream):\n",
    "    \n",
    "    plt.figure(figsize=(figsize,float(ny)/nx*figsize))\n",
    "    vx,vy=frames[ith][:2]\n",
    "    plt.xlim(1,nx-2)\n",
    "    plt.ylim(1,ny-2) \n",
    "    plt.imshow(frames[ith][sel],origin='top')\n",
    "    if stream:\n",
    "        plt.streamplot(X,Y,vx,vy,color='white',density=1.2)\n",
    "    plt.axhline(y=ny/2, xmin=0, xmax=40, linewidth=1, color = 'k')\n",
    "    plt.show()"
   ]
  },
  {
   "cell_type": "code",
   "execution_count": null,
   "metadata": {
    "collapsed": false
   },
   "outputs": [],
   "source": []
  }
 ],
 "metadata": {
  "kernelspec": {
   "display_name": "IPython (Python 2)",
   "name": "python2"
  },
  "language_info": {
   "codemirror_mode": {
    "name": "ipython",
    "version": 2
   },
   "file_extension": ".py",
   "mimetype": "text/x-python",
   "name": "python",
   "nbconvert_exporter": "python",
   "pygments_lexer": "ipython2",
   "version": "2.7.6"
  },
  "signature": "sha256:33f4032dcd50a5a6637b156e9f5005f9cea217ad1b79e22e5d4854f3cb9d1723"
 },
 "nbformat": 4,
 "nbformat_minor": 0
}