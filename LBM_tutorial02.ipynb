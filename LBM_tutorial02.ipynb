{
 "cells": [
  {
   "cell_type": "code",
   "execution_count": null,
   "metadata": {
    "collapsed": false
   },
   "outputs": [],
   "source": [
    "%matplotlib inline\n",
    "import matplotlib.pyplot as plt\n",
    "import numpy as np\n",
    "import sys,os\n",
    "sys.path.append('./sailfish/')\n"
   ]
  },
  {
   "cell_type": "code",
   "execution_count": null,
   "metadata": {
    "collapsed": false
   },
   "outputs": [],
   "source": [
    "!pwd"
   ]
  },
  {
   "cell_type": "code",
   "execution_count": null,
   "metadata": {
    "collapsed": false
   },
   "outputs": [],
   "source": [
    "%%writefile ex1.py\n",
    "import numpy as np\n",
    "from sailfish.subdomain import Subdomain2D\n",
    "from sailfish.node_type import NTFullBBWall, NTEquilibriumVelocity\n",
    "from sailfish.controller import LBSimulationController\n",
    "from sailfish.lb_single import LBFluidSim\n",
    "\n",
    "class MyBlock(Subdomain2D):\n",
    "    max_v = 0.1\n",
    "\n",
    "    def boundary_conditions(self, hx, hy):\n",
    "        wall_map = ( (hx == self.gx-1) | (hx == 0) | (hy == 0) )\n",
    "        self.set_node( (hy == self.gy-1) & (hx>0) & (hx<self.gx-1) , NTEquilibriumVelocity((self.max_v, 0.0)) )\n",
    "        self.set_node(wall_map, NTFullBBWall)\n",
    "        \n",
    "    def initial_conditions(self, sim, hx, hy):\n",
    "        sim.rho[:] = 1.0\n",
    "\n",
    "class MySim(LBFluidSim):\n",
    "    subdomain = MyBlock\n",
    "\n",
    "LBSimulationController(MySim).run()"
   ]
  },
  {
   "cell_type": "code",
   "execution_count": null,
   "metadata": {
    "collapsed": false
   },
   "outputs": [],
   "source": [
    "%%sh\n",
    "export PYTHONPATH=$PWD/sailfish/\n",
    "python ex1.py --max_iters=100 --every=100 \\\n",
    " --lat_nx=30 --lat_ny=30 \\\n",
    " --visc=0.1\\\n",
    " --output=ex1 --output_format=npy --debug_dump_dists --block_size=32"
   ]
  },
  {
   "cell_type": "code",
   "execution_count": null,
   "metadata": {
    "collapsed": false
   },
   "outputs": [],
   "source": [
    "!ls -lrta ex1*"
   ]
  },
  {
   "cell_type": "code",
   "execution_count": null,
   "metadata": {
    "collapsed": false
   },
   "outputs": [],
   "source": [
    "data = np.load(\"ex1_dists.0.099.npz\")\n",
    "data['arr_0'][0].shape"
   ]
  },
  {
   "cell_type": "code",
   "execution_count": null,
   "metadata": {
    "collapsed": false
   },
   "outputs": [],
   "source": [
    "data['arr_0'].shape"
   ]
  },
  {
   "cell_type": "code",
   "execution_count": null,
   "metadata": {
    "collapsed": false
   },
   "outputs": [],
   "source": [
    "data.files"
   ]
  },
  {
   "cell_type": "code",
   "execution_count": null,
   "metadata": {
    "collapsed": false
   },
   "outputs": [],
   "source": [
    "dists = data['arr_0']\n",
    "ny,nx = 32,32\n",
    "Y,X = np.mgrid[0:ny,0:nx]\n",
    "plt.figure(figsize=(5,ny/nx*5))\n",
    "plt.xlim(1,nx-2)\n",
    "plt.ylim(1,ny-2)\n",
    "plt.contourf(X,Y,dists[8,:,:],256)\n"
   ]
  },
  {
   "cell_type": "code",
   "execution_count": null,
   "metadata": {
    "collapsed": false
   },
   "outputs": [],
   "source": [
    "data = np.load(\"ex1.0.100.npz\")\n",
    "vx,vy = data['v']\n",
    "ny,nx = vx.shape\n",
    "Y,X = np.mgrid[0:ny,0:nx]\n",
    "plt.figure(figsize=(5,ny/nx*5))\n",
    "plt.xlim(0,nx-1)\n",
    "plt.ylim(0,ny-1)\n",
    "plt.contourf(X,Y,np.sqrt(vy**2+vx**2),256)\n",
    "plt.streamplot(X,Y,vx,vy,color='white')"
   ]
  },
  {
   "cell_type": "code",
   "execution_count": null,
   "metadata": {
    "collapsed": false
   },
   "outputs": [],
   "source": [
    "vx[27,15],dists[:,27,15]\n"
   ]
  },
  {
   "cell_type": "code",
   "execution_count": null,
   "metadata": {
    "collapsed": false
   },
   "outputs": [],
   "source": [
    "np.sum(dists[:,27,15])"
   ]
  },
  {
   "cell_type": "code",
   "execution_count": null,
   "metadata": {
    "collapsed": false
   },
   "outputs": [],
   "source": [
    "from sailfish import sym\n",
    "from sailfish import sym_equilibrium\n",
    "from sympy import Matrix\n",
    "\n"
   ]
  },
  {
   "cell_type": "code",
   "execution_count": null,
   "metadata": {
    "collapsed": false
   },
   "outputs": [],
   "source": [
    "sym.D2Q9.basis"
   ]
  },
  {
   "cell_type": "code",
   "execution_count": null,
   "metadata": {
    "collapsed": false
   },
   "outputs": [],
   "source": [
    "sum([map(float,c*fi)[0] for c,fi in zip(sym.D2Q9.basis,dists[:,28,16])])/np.sum(dists[:,27,15])"
   ]
  },
  {
   "cell_type": "code",
   "execution_count": null,
   "metadata": {
    "collapsed": false
   },
   "outputs": [],
   "source": [
    "dists[:,28,16]"
   ]
  },
  {
   "cell_type": "code",
   "execution_count": null,
   "metadata": {
    "collapsed": true
   },
   "outputs": [],
   "source": [
    "sym_equilibrium.bgk_equilibrium??"
   ]
  },
  {
   "cell_type": "code",
   "execution_count": null,
   "metadata": {
    "collapsed": false
   },
   "outputs": [],
   "source": [
    "class C:\n",
    "    incompressible = False\n",
    "    minimize_roundoff = False\n",
    "config = C()\n",
    "sym_equilibrium.bgk_equilibrium(sym.D2Q9,config)"
   ]
  },
  {
   "cell_type": "code",
   "execution_count": null,
   "metadata": {
    "collapsed": false
   },
   "outputs": [],
   "source": [
    "import sympy as S\n",
    "g0m0,g0m1x,g0m1y = S.symbols('g0m0,g0m1x,g0m1y')\n",
    "\n",
    "sym_equilibrium.bgk_equilibrium(sym.D2Q9,config)[0][0].subs([(g0m0,1),(g0m1x,0),(g0m1y,0)]).n()"
   ]
  },
  {
   "cell_type": "code",
   "execution_count": null,
   "metadata": {
    "collapsed": false
   },
   "outputs": [],
   "source": [
    "sym_equilibrium.bgk_equilibrium(sym.D2Q9,config)[0][1]"
   ]
  },
  {
   "cell_type": "code",
   "execution_count": null,
   "metadata": {
    "collapsed": false
   },
   "outputs": [],
   "source": []
  },
  {
   "cell_type": "code",
   "execution_count": null,
   "metadata": {
    "collapsed": false
   },
   "outputs": [],
   "source": []
  },
  {
   "cell_type": "code",
   "execution_count": null,
   "metadata": {
    "collapsed": false
   },
   "outputs": [],
   "source": []
  },
  {
   "cell_type": "code",
   "execution_count": null,
   "metadata": {
    "collapsed": false
   },
   "outputs": [],
   "source": [
    "plt.figure(figsize=(6,6))\n",
    "ax = plt.axes()\n",
    "\n",
    "for b in sym.D2Q9.basis[1:]:\n",
    "    ax.arrow(0, 0, *map(float,b), head_width=0.05, head_length=0.1, fc='k', ec='k')\n",
    "\n",
    "plt.xlim(-1.2,1.2)\n",
    "plt.ylim(-1.2,1.2)"
   ]
  },
  {
   "cell_type": "code",
   "execution_count": null,
   "metadata": {
    "collapsed": false
   },
   "outputs": [],
   "source": [
    "eq_fncs = sym_equilibrium.bgk_equilibrium(sym.D2Q9,config)[0]"
   ]
  },
  {
   "cell_type": "code",
   "execution_count": null,
   "metadata": {
    "collapsed": false
   },
   "outputs": [],
   "source": [
    "d = [float(ex.subs([(g0m0,1),(g0m1x,.2),(g0m1y,0.2)]) ) for ex in eq_fncs]\n",
    "d"
   ]
  },
  {
   "cell_type": "code",
   "execution_count": null,
   "metadata": {
    "collapsed": false
   },
   "outputs": [],
   "source": [
    "plt.figure(figsize=(6,6))\n",
    "ax = plt.axes()\n",
    "\n",
    "for w,b in zip(sym.D2Q9.basis[1:],d[1:]):\n",
    "    ax.arrow(0, 0, *map(float,b*w.normalized()), head_width=0.02, head_length=0.03, fc='r', ec='k')\n",
    "a=.4\n",
    "plt.xlim(-a,a)\n",
    "plt.ylim(-a,a)"
   ]
  },
  {
   "cell_type": "code",
   "execution_count": null,
   "metadata": {
    "collapsed": false
   },
   "outputs": [],
   "source": [
    "d = [float(ex.subs([(g0m0,1),(g0m1x,vx[27,15]),(g0m1y,vy[27,15])]) ) for ex in eq_fncs]\n",
    "d"
   ]
  },
  {
   "cell_type": "code",
   "execution_count": null,
   "metadata": {
    "collapsed": false
   },
   "outputs": [],
   "source": [
    "d = [float(ex.subs([(g0m0,1),(g0m1x,vx[27,15]),(g0m1y,vy[27,15])]) ) for ex in eq_fncs]\n",
    "dnon = dists[:,28,16]\n",
    "plt.figure(figsize=(6,6))\n",
    "ax = plt.axes()\n",
    "\n",
    "for w,b in zip(sym.D2Q9.basis[1:],d[1:]):\n",
    "    ax.arrow(0, 0, *map(float,b*w.normalized()), head_width=0.02, head_length=0.03, fc='r', ec='k')\n",
    "for w,b in zip(sym.D2Q9.basis[1:],dnon[1:]):\n",
    "    ax.arrow(0, 0, *map(float,b*w.normalized()), head_width=0.01, head_length=0.02, fc='b', ec='b')\n",
    "    \n",
    "a=.3\n",
    "plt.xlim(-a,a)\n",
    "plt.ylim(-a,a)"
   ]
  },
  {
   "cell_type": "code",
   "execution_count": null,
   "metadata": {
    "collapsed": false
   },
   "outputs": [],
   "source": [
    "from IPython.html.widgets import interact, interactive, fixed\n",
    "from IPython.html import widgets\n",
    "from IPython.display import clear_output, display, HTML\n",
    "\n",
    "\n",
    "def show_eq(vx,vy):\n",
    "    \n",
    "    d = [float(ex.subs([(g0m0,1),(g0m1x,vx),(g0m1y,vy)]) ) for ex in eq_fncs]\n",
    "\n",
    "    plt.figure(figsize=(6,6))\n",
    "    ax = plt.axes()\n",
    "\n",
    "    for w,b in zip(sym.D2Q9.basis[1:],d[1:]):\n",
    "        ax.arrow(0, 0, *map(float,b*w.normalized()), head_width=0.02, head_length=0.03, fc='r', ec='k')\n",
    "        if b<0:\n",
    "            print \"Negative distribution:\",w\n",
    "    a=.4\n",
    "    plt.xlim(-a,a)\n",
    "    plt.ylim(-a,a)\n",
    "    \n",
    "    plt.show()"
   ]
  },
  {
   "cell_type": "code",
   "execution_count": null,
   "metadata": {
    "collapsed": false
   },
   "outputs": [],
   "source": [
    "w = interactive(show_eq, vx=(0.,1.0), vy=(0,1.))\n",
    "display(w)"
   ]
  },
  {
   "cell_type": "code",
   "execution_count": null,
   "metadata": {
    "collapsed": false
   },
   "outputs": [],
   "source": []
  },
  {
   "cell_type": "code",
   "execution_count": null,
   "metadata": {
    "collapsed": true
   },
   "outputs": [],
   "source": []
  }
 ],
 "metadata": {
  "kernelspec": {
   "display_name": "IPython (Python 2)",
   "name": "python2"
  },
  "language_info": {
   "codemirror_mode": {
    "name": "ipython",
    "version": 2
   },
   "file_extension": ".py",
   "mimetype": "text/x-python",
   "name": "python",
   "nbconvert_exporter": "python",
   "pygments_lexer": "ipython2",
   "version": "2.7.6"
  },
  "signature": "sha256:8c9d44a05716c725570c6cd2da9567c9bba265a4f6f1c0350133ffd41545cabf"
 },
 "nbformat": 4,
 "nbformat_minor": 0
}