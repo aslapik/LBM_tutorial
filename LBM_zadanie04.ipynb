{
 "cells": [
  {
   "cell_type": "code",
   "execution_count": null,
   "metadata": {
    "collapsed": false
   },
   "outputs": [],
   "source": [
    "%matplotlib inline\n",
    "import matplotlib.pyplot as plt\n",
    "import numpy as np\n",
    "import sys,os\n",
    "sys.path.append('./sailfish/')\n",
    "if not (os.path.isdir('data') or os.path.islink('data')):\n",
    "    os.mkdir('data')\n"
   ]
  },
  {
   "cell_type": "markdown",
   "metadata": {},
   "source": [
    "# Fala zaburzenia w LBM\n",
    "\n",
    "Zaburzenie w modelu siatkowym porusza si\u0119 z tak zwan\u0105 sieciow\u0105 pr\u0119dko\u015bci\u0105 d\u017awi\u0119ku. Dla modelu `D2Q9` wynosi ona:\n",
    "\n",
    "$$ c_s = \\frac{1}{\\sqrt 3}$$\n",
    "\n",
    "Poni\u017cszy kod symuluje ewolucj\u0119 zaburzenia g\u0119sto\u015bci w cieczy znajduj\u0105cej si\u0119 wewn\u0105trz kwadratowego obszaru ze \u015bciankami (noslip):\n",
    "\n",
    "    def boundary_conditions(self, hx, hy):\n",
    "        wall_map = ( (hy == self.gy-1) & (hx == self.gx-1) &(hx==0)&(hy==0)  )  \n",
    "        self.set_node(wall_map, NTFullBBWall)\n",
    "\n",
    "Warunkiem pocz\u0105tkowym jest $v_x=0$, $v_y=0$ (domy\u015blnie wszysktkie pola makroskopowe s\u0105 zerowane). Ciecz ma w chwili pocz\u0105tkowej sta\u0142\u0105 g\u0119sto\u015b\u0107 $\\rho=1$ z wyj\u0105tkiem w\u0119z\u0142a `32,1` w kt\u00f3rym mamy $\\rho=1.1$:\n",
    "    \n",
    "    def initial_conditions(self, sim, hx, hy):\n",
    "        sim.rho[:] = 1.0\n",
    "        sim.rho[32,1] = 1.1  \n",
    "\n",
    "Mo\u017cemy si\u0119 spodziewa\u0107 fali zaburzenia rozchodz\u0105cej si\u0119 w prawo. W celu zapisu przebiegu tego zdarzenia zapisujemy pola makroskopowe po ka\u017cdym kroku symulacji: `--every=1`.\n",
    "\n",
    "### Wykonaj:\n",
    "\n",
    "1. Uruchom kod symulacji. Upewnij si\u0119 czy dane wynikowe si\u0119 zapisa\u0142y w podkatalogu `data`\n",
    "2. Wykonaj kod w notatniku wizualizuj\u0105cy przebieg symulacji. \n",
    "3. Zaobserwuj rozchodzenie si\u0119 fali dzwi\u0119kowej. Oszacuj wizualnie jej pr\u0119dko\u015b\u0107 w jednostkach sieci na iteracje.\n",
    "4. Zmie\u0144 numeryczn\u0105 lepko\u015b\u0107 przez modyfikacji parametru `--visc` od $0.1$ do $0.001$. Czy pr\u0119dko\u015b\u0107 d\u017awi\u0119ku zmienia si\u0119 ? Jakie s\u0105 r\u00f3\u017cnice w wynikach?\n",
    "5. (*) Oblicz numerycznie pr\u0119dko\u015b\u0107 fali obliczaj\u0105c po\u0142o\u017cenie pierwszego maksimum przekroju `[32,:]` dla ka\u017cdej iteracji. Por\u00f3wnaj z warto\u015bci\u0105 teoretyczn\u0105 dla r\u00f3\u017cnych $\\mu_{LB}$.\n",
    "\n",
    "\n",
    "\n",
    "\n"
   ]
  },
  {
   "cell_type": "code",
   "execution_count": null,
   "metadata": {
    "collapsed": false
   },
   "outputs": [],
   "source": [
    "%%writefile ex5.py\n",
    "\n",
    "import numpy as np\n",
    "from sailfish.subdomain import Subdomain2D\n",
    "from sailfish.node_type import NTFullBBWall, NTEquilibriumVelocity\n",
    "from sailfish.controller import LBSimulationController\n",
    "from sailfish.lb_single import LBFluidSim\n",
    "\n",
    "class MyBlock(Subdomain2D):\n",
    "    max_v = 0.1\n",
    "\n",
    "    def boundary_conditions(self, hx, hy):\n",
    "        wall_map = ( (hy == self.gy-1) & (hx == self.gx-1) &(hx==0)&(hy==0)  )  \n",
    "        self.set_node(wall_map, NTFullBBWall)\n",
    "        \n",
    "    def initial_conditions(self, sim, hx, hy):\n",
    "        sim.rho[:] = 1.0\n",
    "        sim.rho[32,1] = 1.1\n",
    "        \n",
    "class MySim(LBFluidSim):\n",
    "    subdomain = MyBlock\n",
    "\n",
    "LBSimulationController(MySim).run()"
   ]
  },
  {
   "cell_type": "code",
   "execution_count": null,
   "metadata": {
    "collapsed": false
   },
   "outputs": [],
   "source": [
    "%%sh\n",
    "export PYTHONPATH=$PWD/sailfish/\n",
    "python ex5.py --max_iters=100 --every=1 \\\n",
    " --lat_nx=63 --lat_ny=63 \\\n",
    " --model=mrt \\\n",
    " --visc=0.1 \\\n",
    " --output=./data/ex5 --output_format=npy"
   ]
  },
  {
   "cell_type": "code",
   "execution_count": null,
   "metadata": {
    "collapsed": false
   },
   "outputs": [],
   "source": [
    "data = np.load(\"data/ex5.0.050.npz\")\n",
    "vx,vy = data['v']\n",
    "rho = data['rho']\n",
    "plt.imshow(np.sqrt(vy**2+vx**2),origin='top')"
   ]
  },
  {
   "cell_type": "code",
   "execution_count": null,
   "metadata": {
    "collapsed": false
   },
   "outputs": [],
   "source": [
    "print \"Rho\",np.nanmin(rho),np.nanmax(rho)\n",
    "plt.imshow(rho,origin='top')"
   ]
  },
  {
   "cell_type": "code",
   "execution_count": null,
   "metadata": {
    "collapsed": false
   },
   "outputs": [],
   "source": [
    "import glob\n",
    "frames = []\n",
    "\n",
    "for fn in sorted(glob.glob(\"data/ex5*.npz\")):\n",
    "    data = np.load(fn)\n",
    "    vx,vy = data['v']\n",
    "    rho = data['rho']\n",
    "    #vx, vy  = vx[s],vy[s]\n",
    "    Dxvx,Dyvx = np.gradient(vx)\n",
    "    Dxvy,Dyvy = np.gradient(vy)\n",
    "    frames.append([vx, vy,Dyvx-Dxvy,rho])\n",
    "print \"Read \",(len(frames)),\"files\""
   ]
  },
  {
   "cell_type": "code",
   "execution_count": null,
   "metadata": {
    "collapsed": false
   },
   "outputs": [],
   "source": [
    "from IPython.html.widgets import interact, interactive, fixed\n",
    "from IPython.html import widgets\n",
    "#from IPython.display import display,clear_output\n",
    "ny,nx = frames[0][0].shape\n",
    "@interact(ith=widgets.IntSlider(min=0,max=len(frames)-1),\\\n",
    "          figsize=widgets.IntSlider(min=0,max=20,value=6),\\\n",
    "          sel=widgets.Dropdown(values={'vx':0, 'vy': 1, 'rot v': 2,'rho':3},value=0))\n",
    "def g(ith,figsize,sel):\n",
    "    \n",
    "    plt.figure(figsize=(figsize,float(ny)/nx*figsize))\n",
    "    vx,vy=frames[ith][:2]\n",
    "    plt.xlim(1,nx-2)\n",
    "    plt.ylim(1,ny-2) \n",
    "    plt.imshow(frames[ith][sel],origin='top')\n",
    "    plt.axhline(y=32, xmin=0, xmax=40, linewidth=1, color = 'k')\n",
    "    plt.show()"
   ]
  },
  {
   "cell_type": "code",
   "execution_count": null,
   "metadata": {
    "collapsed": true
   },
   "outputs": [],
   "source": []
  },
  {
   "cell_type": "code",
   "execution_count": null,
   "metadata": {
    "collapsed": true
   },
   "outputs": [],
   "source": []
  },
  {
   "cell_type": "code",
   "execution_count": null,
   "metadata": {
    "collapsed": true
   },
   "outputs": [],
   "source": []
  },
  {
   "cell_type": "markdown",
   "metadata": {},
   "source": [
    "### Wyznaczanie pr\u0119dko\u015bci d\u017awi\u0119ku\n",
    "\n",
    "`np.argmax` pozwala znale\u017a\u0107 indeks maksymalnego elementu tablicy. Mo\u017cna j\u0105 wykorzysta\u0107 do \u015bledzenia fali zaburzenia, zauwa\u017caj\u0105c, \u017ce pierwsze maksimum jest maksimum globalnym."
   ]
  },
  {
   "cell_type": "code",
   "execution_count": null,
   "metadata": {
    "collapsed": false
   },
   "outputs": [],
   "source": [
    "ith = 35\n",
    "f_ = frames[ith]\n",
    "imax = np.argmax(f_[3][32,:])\n",
    "plt.plot(f_[3][32,:])\n",
    "plt.plot( imax,f_[3][32,imax],'ro')"
   ]
  },
  {
   "cell_type": "code",
   "execution_count": null,
   "metadata": {
    "collapsed": false
   },
   "outputs": [],
   "source": []
  },
  {
   "cell_type": "code",
   "execution_count": null,
   "metadata": {
    "collapsed": true
   },
   "outputs": [],
   "source": []
  }
 ],
 "metadata": {
  "kernelspec": {
   "display_name": "IPython (Python 2)",
   "name": "python2"
  },
  "language_info": {
   "codemirror_mode": {
    "name": "ipython",
    "version": 2
   },
   "file_extension": ".py",
   "mimetype": "text/x-python",
   "name": "python",
   "nbconvert_exporter": "python",
   "pygments_lexer": "ipython2",
   "version": "2.7.6"
  },
  "signature": "sha256:9e0b82e7154606ee40b4a8cc7994905c11be9fd3671001618904d3ee8f09344c"
 },
 "nbformat": 4,
 "nbformat_minor": 0
}