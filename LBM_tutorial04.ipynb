{
 "cells": [
  {
   "cell_type": "code",
   "execution_count": null,
   "metadata": {
    "collapsed": false
   },
   "outputs": [],
   "source": [
    "%matplotlib inline\n",
    "import matplotlib.pyplot as plt\n",
    "import numpy as np\n",
    "import sys,os\n",
    "sys.path.append('./sailfish/')\n",
    "if not (os.path.isdir('data') or os.path.islink('data')):\n",
    "    os.mkdir('data')\n"
   ]
  },
  {
   "cell_type": "markdown",
   "metadata": {},
   "source": [
    "# Sound wave in LBM\n",
    "\n",
    "The signal propagates with the lattice speed of sound. It is \n",
    "\n",
    "$$ c_s = \\frac{1}{\\sqrt 3}$$\n",
    "\n",
    "in `D2Q9` model.\n",
    "\n",
    "We can observe this wave by following density disturbance in steady fluid. \n",
    "\n",
    "First we setup a simulation on square domain with noslip walls. The initial condition will be the fluid at rest except one node - `32,1` where we set $\\rho=1.1$.\n",
    "\n",
    "We can expect the wave propagating from this node to the right wall.\n",
    "\n",
    "\n",
    "\n",
    "\n",
    "\n"
   ]
  },
  {
   "cell_type": "code",
   "execution_count": null,
   "metadata": {
    "collapsed": false
   },
   "outputs": [],
   "source": [
    "%%writefile ex5.py\n",
    "\n",
    "import numpy as np\n",
    "from sailfish.subdomain import Subdomain2D\n",
    "from sailfish.node_type import NTFullBBWall, NTEquilibriumVelocity\n",
    "from sailfish.controller import LBSimulationController\n",
    "from sailfish.lb_single import LBFluidSim\n",
    "\n",
    "class MyBlock(Subdomain2D):\n",
    "    max_v = 0.1\n",
    "\n",
    "    def boundary_conditions(self, hx, hy):\n",
    "        wall_map = ( (hy == self.gy-1) & (hx == self.gx-1) &(hx==0)&(hy==0)  )\n",
    "        \n",
    "        self.set_node(wall_map, NTFullBBWall)\n",
    "        \n",
    "    def initial_conditions(self, sim, hx, hy):\n",
    "        nx,ny = self.gx,self.gy\n",
    "        sim.rho[:] = 1.0\n",
    "        sim.rho[32,1] = 1.1\n",
    "        \n",
    "class MySim(LBFluidSim):\n",
    "    subdomain = MyBlock\n",
    "\n",
    "LBSimulationController(MySim).run()"
   ]
  },
  {
   "cell_type": "code",
   "execution_count": null,
   "metadata": {
    "collapsed": false
   },
   "outputs": [],
   "source": [
    "%%sh\n",
    "export PYTHONPATH=$PWD/sailfish/\n",
    "python ex5.py --max_iters=100 --every=1 \\\n",
    " --lat_nx=63 --lat_ny=63 \\\n",
    " --model=mrt \\\n",
    " --visc=0.001 \\\n",
    " --output=./data/ex5 --output_format=npy"
   ]
  },
  {
   "cell_type": "code",
   "execution_count": null,
   "metadata": {
    "collapsed": false
   },
   "outputs": [],
   "source": [
    "data = np.load(\"data/ex5.0.050.npz\")\n",
    "vx,vy = data['v']\n",
    "rho = data['rho']\n",
    "plt.imshow(np.sqrt(vy**2+vx**2),origin='top')"
   ]
  },
  {
   "cell_type": "code",
   "execution_count": null,
   "metadata": {
    "collapsed": false
   },
   "outputs": [],
   "source": [
    "print \"Rho\",np.nanmin(rho),np.nanmax(rho)\n",
    "plt.imshow(rho,origin='top')"
   ]
  },
  {
   "cell_type": "code",
   "execution_count": null,
   "metadata": {
    "collapsed": false
   },
   "outputs": [],
   "source": [
    "import glob\n",
    "frames = []\n",
    "\n",
    "for fn in sorted(glob.glob(\"data/ex5*.npz\")):\n",
    "    data = np.load(fn)\n",
    "    vx,vy = data['v']\n",
    "    rho = data['rho']\n",
    "    #vx, vy  = vx[s],vy[s]\n",
    "    Dxvx,Dyvx = np.gradient(vx)\n",
    "    Dxvy,Dyvy = np.gradient(vy)\n",
    "    frames.append([vx, vy,Dyvx-Dxvy,rho])\n",
    "print \"Read \",(len(frames)),\"files\""
   ]
  },
  {
   "cell_type": "code",
   "execution_count": null,
   "metadata": {
    "collapsed": false
   },
   "outputs": [],
   "source": [
    "from IPython.html.widgets import interact, interactive, fixed\n",
    "from IPython.html import widgets\n",
    "#from IPython.display import display,clear_output\n",
    "ny,nx = frames[0][0].shape\n",
    "@interact(ith=widgets.IntSlider(min=0,max=len(frames)-1),\\\n",
    "          figsize=widgets.IntSlider(min=0,max=20,value=6),\\\n",
    "          sel=widgets.Dropdown(values={'vx':0, 'vy': 1, 'rot v': 2,'rho':3},value=0))\n",
    "def g(ith,figsize,sel):\n",
    "    \n",
    "    plt.figure(figsize=(figsize,float(ny)/nx*figsize))\n",
    "    vx,vy=frames[ith][:2]\n",
    "    plt.xlim(1,nx-2)\n",
    "    plt.ylim(1,ny-2) \n",
    "    plt.imshow(frames[ith][sel],origin='top')\n",
    "    plt.axhline(y=32, xmin=0, xmax=40, linewidth=1, color = 'k')\n",
    "    plt.show()"
   ]
  },
  {
   "cell_type": "code",
   "execution_count": null,
   "metadata": {
    "collapsed": true
   },
   "outputs": [],
   "source": []
  },
  {
   "cell_type": "code",
   "execution_count": null,
   "metadata": {
    "collapsed": true
   },
   "outputs": [],
   "source": []
  },
  {
   "cell_type": "code",
   "execution_count": null,
   "metadata": {
    "collapsed": true
   },
   "outputs": [],
   "source": []
  },
  {
   "cell_type": "code",
   "execution_count": null,
   "metadata": {
    "collapsed": false
   },
   "outputs": [],
   "source": [
    "ith = 35\n",
    "f_ = frames[ith]\n",
    "imax = np.argmax(f_[3][32,:])\n",
    "plt.plot(f_[3][32,:])\n",
    "plt.plot( imax,f_[3][32,imax],'ro')"
   ]
  },
  {
   "cell_type": "code",
   "execution_count": null,
   "metadata": {
    "collapsed": false
   },
   "outputs": [],
   "source": []
  },
  {
   "cell_type": "code",
   "execution_count": null,
   "metadata": {
    "collapsed": false
   },
   "outputs": [],
   "source": [
    "y = [np.argmax(f_[3][32,:]) for f_ in frames[1:-12]] \n",
    "x = np.arange(len(y))\n",
    "a,b = np.polyfit(x, y, 1)\n",
    "plt.plot(x,y )\n",
    "plt.plot(x,a*x+b,'r')\n",
    "print a,1/np.sqrt(3)"
   ]
  },
  {
   "cell_type": "code",
   "execution_count": null,
   "metadata": {
    "collapsed": true
   },
   "outputs": [],
   "source": []
  }
 ],
 "metadata": {
  "kernelspec": {
   "display_name": "IPython (Python 2)",
   "name": "python2"
  },
  "language_info": {
   "codemirror_mode": {
    "name": "ipython",
    "version": 2
   },
   "file_extension": ".py",
   "mimetype": "text/x-python",
   "name": "python",
   "nbconvert_exporter": "python",
   "pygments_lexer": "ipython2",
   "version": "2.7.6"
  },
  "signature": "sha256:3491b05fa59abfd3abd235bb2c5635c7cb0e8583e30800e048fd7bb05fa40763"
 },
 "nbformat": 4,
 "nbformat_minor": 0
}