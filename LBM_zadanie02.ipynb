{
 "cells": [
  {
   "cell_type": "markdown",
   "metadata": {},
   "source": [
    "# \u015acie\u017cka wir\u00f3w K\u00e1rm\u00e1na\n",
    "\n",
    "Op\u0142yw rzeczywistej cieczy przez niesko\u0144czony cylinder (lub ko\u0142o w 2d) dla ma\u0142ych liczb Re jest laminarny i pole pr\u0119dko\u015bci przypomina przep\u0142yw potencjalny. Jednak zwi\u0119kszaj\u0105c liczb\u0119 Re pojawia si\u0119 para wir\u00f3w za przeszkod\u0105, kt\u00f3re wraz ze zwi\u0119kszaj\u0105ca si\u0119\u00a0Re trac\u0105 stabilno\u015b\u0107 na rzecz stanu oscylacyjnego. \n",
    "\n",
    "- https://www.youtube.com/watch?v=PJW341Zc9TE\n",
    "- https://www.youtube.com/watch?v=JI0M1gVNhbw\n",
    "- https://www.youtube.com/watch?v=_AJgEa2dbJU\n",
    "\n",
    "Zbadajmy jak zachowuje sie taki uk\u0142ad.\n",
    "\n",
    "\n",
    "###Wykonaj:\n",
    "\n",
    "1. Uruchom poni\u017csz\u0105 symulacje dla parametr\u00f3w: \n",
    "\n",
    " - $nu_{LB}=0.01$: parametr `-visc=0.01`\n",
    " - rozmiaru siatki uk\u0142adu $nx=126$ oraz $ny=510$ \n",
    "\n",
    " W tym przypadku nap\u0119dzimy uk\u0142ad si\u0142\u0105 obj\u0119to\u015bciowa (g\u0119sto\u015bci\u0105 si\u0142y), kt\u00f3r\u0105 w kodzie zadajemy przez np.:\n",
    "\n",
    "    self.add_body_force((15e-7, 0.0))\n",
    "\n",
    " Poni\u017csza symulacja zawiera w po\u0142owie wysoko\u015bci dysk o \u015brednicy 20[lu]. \n",
    "\n",
    "2. Zbadaj zachowanie si\u0119 uk\u0142adu dla kilku warto\u015bci si\u0142y obj\u0119to\u015bciowej dzia\u0142aj\u0105ca na ciecz. Zwi\u0119kszaj\u0105\u0107 si\u0142\u0119 zwi\u0119kszamy   pr\u0119dko\u015b\u0107 przep\u0142ywu a tym samym Re.\n",
    "\n",
    "  W ka\u017cdym przypadku oblicz liczb\u0119 Reynoldsa dla w/w uk\u0142adu, jako rozmiar charakterystyczny przyjmij rozmiar   przeszkody w jednostkach sieci. Pr\u0119dko\u015b\u0107 charakterystyczna niech bedzie maksymaln\u0105 pr\u0119dko\u015bci\u0105 w uk\u0142adzie. \n",
    "\n",
    "\n",
    "  - $0.5\\times 10^{-7}$: $v_{max}=?$, $Re=?$, zawirowanie za przeszkod\u0105?, z\u0142amanie symetrii w $y$?, ustala si\u0119 przep\u0142yw sta\u0142y|okresowy|nieokresowy\n",
    "  - $5 \\times 10^{-7}$: $v_{max}=?$, $Re=?$, zawirowanie za przeszkod\u0105?, z\u0142amanie symetrii w $y$?, ustala si\u0119 przep\u0142yw sta\u0142y|okresowy|nieokresowy\n",
    "  - $15 \\times 10^{-7}$: $v_{max}=?$, $Re=?$, zawirowanie za przeszkod\u0105?, z\u0142amanie symetrii w $y$?, ustala si\u0119 przep\u0142yw sta\u0142y|okresowy|nieokresowy\n",
    "  - $20 \\times 10^{-7}$: $v_{max}=?$, $Re=?$, zawirowanie za przeszkod\u0105?, z\u0142amanie symetrii w $y$?, ustala si\u0119 przep\u0142yw sta\u0142y|okresowy|nieokresowy\n",
    "\n",
    "\n",
    "\n",
    "\n",
    "\n",
    "\n",
    "\n"
   ]
  },
  {
   "cell_type": "code",
   "execution_count": null,
   "metadata": {
    "collapsed": false
   },
   "outputs": [],
   "source": [
    "%matplotlib inline\n",
    "import matplotlib.pyplot as plt\n",
    "import numpy as np\n",
    "import sys,os\n",
    "sys.path.append('./sailfish/')\n",
    "if not (os.path.isdir('data') or os.path.islink('data')):\n",
    "    os.mkdir('data')\n"
   ]
  },
  {
   "cell_type": "code",
   "execution_count": null,
   "metadata": {
    "collapsed": false
   },
   "outputs": [],
   "source": [
    "%%writefile karman.py\n",
    "import numpy as np\n",
    "from sailfish.subdomain import Subdomain2D\n",
    "from sailfish.node_type import NTFullBBWall\n",
    "from sailfish.controller import LBSimulationController\n",
    "from sailfish.lb_single import LBFluidSim, LBForcedSim\n",
    "\n",
    "class MyBlock(Subdomain2D):\n",
    "    max_v = 0.1\n",
    "\n",
    "    def boundary_conditions(self, hx, hy):\n",
    "       \n",
    "        diam = 20\n",
    "        x0 = 2 * diam\n",
    "        y0 = self.gy / 2\n",
    "        \n",
    "        self.set_node(hy == 0, NTFullBBWall)\n",
    "        self.set_node(hy == self.gy - 1, NTFullBBWall)\n",
    "        cylinder_map = np.square(hx - x0) + np.square(hy - y0) < diam**2 / 4.0\n",
    "        \n",
    "        not_wall = (hy > 0) & (hy < self.gy - 1)\n",
    "        \n",
    "        self.set_node(cylinder_map, NTFullBBWall)\n",
    "     \n",
    "        \n",
    "    def initial_conditions(self, sim, hx, hy):\n",
    "        sim.rho[:] = 1.0\n",
    "\n",
    "class MySim(LBFluidSim, LBForcedSim):\n",
    "    \n",
    "    subdomain = MyBlock\n",
    "\n",
    "    def __init__(self, config):\n",
    "        super(MySim, self).__init__(config)\n",
    "        self.add_body_force((15e-7, 0.0))\n",
    "\n",
    "LBSimulationController(MySim).run()"
   ]
  },
  {
   "cell_type": "code",
   "execution_count": null,
   "metadata": {
    "collapsed": false
   },
   "outputs": [],
   "source": [
    "%%sh\n",
    "rm data/karman*npz\n",
    "export PYTHONPATH=$PWD/sailfish/\n",
    "python karman.py --max_iters=100000 --from=0000 --every=10000 \\\n",
    " --lat_nx=510 --lat_ny=126 --model=mrt \\\n",
    " --visc=0.01 --periodic_x\\\n",
    " --output=data/karman --output_format=npy"
   ]
  },
  {
   "cell_type": "code",
   "execution_count": null,
   "metadata": {
    "collapsed": false
   },
   "outputs": [],
   "source": [
    "!ls data/karman* -rtla|tail\n"
   ]
  },
  {
   "cell_type": "code",
   "execution_count": null,
   "metadata": {
    "collapsed": false
   },
   "outputs": [],
   "source": [
    "data = np.load(\"data/karman.0.100000.npz\")\n",
    "data.files\n",
    "data['v'][0].shape\n",
    "vx,vy = data['v'] \n",
    "ny,nx = vx.shape\n",
    "print \"Max v:\",np.nanmax(vx)\n",
    "visc = 0.1\n",
    "u_lb = np.nanmax(vx)\n",
    "Re = u_lb*(20-1)/visc\n",
    "dx = (1.0/(nx-1))\n",
    "dt = 0.1/1.0*dx\n",
    "print \"Re:\",Re,\"dt:\",dt,\"dx:\",dx\n",
    "plt.imshow(np.sqrt(vx**2+vy**2),origin='top')"
   ]
  },
  {
   "cell_type": "code",
   "execution_count": null,
   "metadata": {
    "collapsed": false
   },
   "outputs": [],
   "source": []
  },
  {
   "cell_type": "code",
   "execution_count": null,
   "metadata": {
    "collapsed": true
   },
   "outputs": [],
   "source": []
  },
  {
   "cell_type": "markdown",
   "metadata": {},
   "source": [
    "## Analiza czasowej ewolucji przep\u0142ywu\n",
    "\n",
    "Mo\u017cemy \u0142atwo przeanalizowa\u0107 przebieg symulacji z zapisanych pol makroskopowych na dysku. Poni\u017cszy kod:\n",
    " \n",
    " - wczytuje wszystkie pliki pasuj\u0105ce do wzorca `data/karman.*.npz`\n",
    " - korzystaj\u0105c z element\u00f3w interaktywnych w IPython, rysuje pole skalarne wybranej wielko\u015bci lub chwilewe linie  pr\u0105du w zadanym kroku czasowym\n",
    " \n",
    "`plt.imshow` jest najszybsz\u0105 metod\u0105 wizualizacji pola skalarnego. `plt.streamlines` jest du\u017co wolniejsze, dlatego dla zapewnienia p\u0142ynniejszego dzia\u0142ania warto mie\u0107 kontrol\u0119 nad tym co jest rysowane. W przypadku wi\u0119kszych p\u00f3\u0142 nale\u017cy u\u017cy\u0107 odpowieniego filtrowania za pomoc\u0105 techniki `slice` by rysowanie jednek klatki nie trwa\u0142o d\u0142ugo."
   ]
  },
  {
   "cell_type": "code",
   "execution_count": null,
   "metadata": {
    "collapsed": false
   },
   "outputs": [],
   "source": [
    "%%time \n",
    "import glob\n",
    "frames = []\n",
    "s = (slice(None),slice(None))\n",
    "#s = (slice(80,170,1),slice(20,220,1))\n",
    "#s = (slice(None),slice(None,200,1))\n",
    "\n",
    "for fn in sorted(glob.glob(\"data/karman.*.npz\")):\n",
    "    data =np.load(fn)\n",
    "    vx,vy = data['v']\n",
    "    rho = data['rho']\n",
    "    vx, vy  = vx[s],vy[s]\n",
    "    Dxvx,Dyvx = np.gradient(vx)\n",
    "    Dxvy,Dyvy = np.gradient(vy)\n",
    "    frames.append([vx, vy,Dyvx-Dxvy,rho])\n"
   ]
  },
  {
   "cell_type": "code",
   "execution_count": null,
   "metadata": {
    "collapsed": false
   },
   "outputs": [],
   "source": [
    "from IPython.html.widgets import interact, interactive, fixed\n",
    "from IPython.html import widgets\n",
    "ny,nx = frames[0][0].shape\n",
    "Y,X = np.mgrid[0:ny,0:nx]\n",
    "\n",
    "@interact(ith=widgets.IntSlider(min=0,max=len(frames)-1),\\\n",
    "          figsize=widgets.IntSlider(min=0,max=20,value=10),\\\n",
    "          sel=widgets.Dropdown(values={'vx':0, 'vy': 1, 'rot v': 2,'rho':3},value=0),\\\n",
    "         stream=widgets.Checkbox())\n",
    "def g(ith,figsize,sel,stream):\n",
    "    \n",
    "    plt.figure(figsize=(figsize,float(ny)/nx*figsize))\n",
    "    vx,vy=frames[ith][:2]\n",
    "    plt.xlim(1,nx-2)\n",
    "    plt.ylim(1,ny-2) \n",
    "    plt.imshow(frames[ith][sel],origin='top')#,vmin=-0.1,vmax=0.1)\n",
    "    if stream:\n",
    "        plt.streamplot(X,Y,vx,vy,color='white',density=1)\n",
    "    plt.axhline(y=ny/2, xmin=0, xmax=40, linewidth=1, color = 'k')\n",
    "    print np.nanmax(vx)\n",
    "    plt.show()"
   ]
  },
  {
   "cell_type": "code",
   "execution_count": null,
   "metadata": {
    "collapsed": false
   },
   "outputs": [],
   "source": []
  },
  {
   "cell_type": "code",
   "execution_count": null,
   "metadata": {
    "collapsed": true
   },
   "outputs": [],
   "source": []
  },
  {
   "cell_type": "code",
   "execution_count": null,
   "metadata": {
    "collapsed": false
   },
   "outputs": [],
   "source": []
  },
  {
   "cell_type": "code",
   "execution_count": null,
   "metadata": {
    "collapsed": false
   },
   "outputs": [],
   "source": []
  },
  {
   "cell_type": "code",
   "execution_count": null,
   "metadata": {
    "collapsed": true
   },
   "outputs": [],
   "source": []
  }
 ],
 "metadata": {
  "kernelspec": {
   "display_name": "IPython (Python 2)",
   "name": "python2"
  },
  "language_info": {
   "codemirror_mode": {
    "name": "ipython",
    "version": 2
   },
   "file_extension": ".py",
   "mimetype": "text/x-python",
   "name": "python",
   "nbconvert_exporter": "python",
   "pygments_lexer": "ipython2",
   "version": "2.7.6"
  },
  "signature": "sha256:de69720cc5e31c453d9613171d84310b66a93a09977c7ce5cf3f39305f4bf194"
 },
 "nbformat": 4,
 "nbformat_minor": 0
}