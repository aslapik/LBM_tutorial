{
 "cells": [
  {
   "cell_type": "code",
   "execution_count": null,
   "metadata": {
    "collapsed": false
   },
   "outputs": [],
   "source": [
    "%matplotlib inline\n",
    "import matplotlib.pyplot as plt\n",
    "import numpy as np\n",
    "import sys,os\n",
    "sys.path.append('./sailfish/')\n"
   ]
  },
  {
   "cell_type": "markdown",
   "metadata": {},
   "source": [
    "# Niestabilno\u015b\u0107 Helmholtza\n",
    "\n",
    "\n",
    "https://www.youtube.com/watch?v=ELaZ2x42dkU&hd=1"
   ]
  },
  {
   "cell_type": "code",
   "execution_count": null,
   "metadata": {
    "collapsed": false
   },
   "outputs": [],
   "source": [
    "%%writefile ex4.py\n",
    "\n",
    "import numpy as np\n",
    "from sailfish.subdomain import Subdomain2D\n",
    "from sailfish.node_type import NTFullBBWall, NTEquilibriumVelocity\n",
    "from sailfish.controller import LBSimulationController\n",
    "from sailfish.lb_single import LBFluidSim\n",
    "\n",
    "class MyBlock(Subdomain2D):\n",
    "    max_v = 0.1\n",
    "\n",
    "    def boundary_conditions(self, hx, hy):\n",
    "        wall_mapv1 = ( (hy == self.gy-1) )\n",
    "        wall_mapv0 = ( (hy == 0) )\n",
    "        \n",
    "        self.set_node(  wall_mapv1 , NTEquilibriumVelocity((self.max_v, 0.0)) )\n",
    "        self.set_node(wall_mapv0, NTFullBBWall)\n",
    "        \n",
    "    def initial_conditions(self, sim, hx, hy):\n",
    "        nx,ny = self.gx,self.gy\n",
    "        sim.rho[:] = 1.0\n",
    "        sim.vy[(hx==2)&(hy==ny/2-1)] = -0.01\n",
    "        #border = (hy>2*np.cos(hx/float(nx)*2*np.pi)+ny/2)\n",
    "        border = (hy>ny/2)       \n",
    "        #border = (hy>ny/2) | ((hy==ny/2) & (hx>nx/3.) & (hx<2*nx/3.))\n",
    "\n",
    "        sim.vx[border] = self.max_v\n",
    "        \n",
    "        \n",
    "class MySim(LBFluidSim):\n",
    "    subdomain = MyBlock\n",
    "\n",
    "LBSimulationController(MySim).run()"
   ]
  },
  {
   "cell_type": "code",
   "execution_count": null,
   "metadata": {
    "collapsed": false
   },
   "outputs": [],
   "source": [
    "%%sh\n",
    "export PYTHONPATH=$PWD/sailfish/\n",
    "python ex4.py --max_iters=10000 --every=100 \\\n",
    " --lat_nx=1022 --lat_ny=254 \\\n",
    " --periodic_x --model=mrt \\\n",
    " --visc=0.001 \\\n",
    " --output=ex4A --output_format=npy\n",
    "\n"
   ]
  },
  {
   "cell_type": "code",
   "execution_count": null,
   "metadata": {
    "collapsed": false
   },
   "outputs": [],
   "source": [
    "!ls -ltra ex4*.npz|head"
   ]
  },
  {
   "cell_type": "code",
   "execution_count": null,
   "metadata": {
    "collapsed": false
   },
   "outputs": [],
   "source": [
    "data = np.load(\"ex4A.0.01000.npz\")\n",
    "vx,vy = data['v']\n",
    "ny,nx = vx.shape\n",
    "Y,X = np.mgrid[0:ny,0:nx]\n",
    "plt.figure(figsize=(12,float(ny)/nx*12))\n",
    "plt.xlim(1,nx-2)\n",
    "plt.ylim(1,ny-2)\n",
    "plt.contourf(X,Y,np.sqrt(vy**2+vx**2),256)\n",
    "plt.streamplot(X,Y,vx,vy,color='white')\n"
   ]
  },
  {
   "cell_type": "code",
   "execution_count": null,
   "metadata": {
    "collapsed": false
   },
   "outputs": [],
   "source": [
    "plt.plot(vx[:,800])"
   ]
  },
  {
   "cell_type": "markdown",
   "metadata": {
    "collapsed": false
   },
   "source": [
    "### Plotting a part  the domain"
   ]
  },
  {
   "cell_type": "code",
   "execution_count": null,
   "metadata": {
    "collapsed": false
   },
   "outputs": [],
   "source": [
    "data = np.load(\"ex4A.0.04000.npz\")\n",
    "vx,vy = data['v']\n",
    "s = (slice(80,170,1),slice(20,220,1))\n",
    "\n",
    "vx, vy  = vx[s],vy[s]\n",
    "Dxvx,Dyvx = np.gradient(vx)\n",
    "Dxvy,Dyvy = np.gradient(vy)\n",
    "ny,nx = vx.shape\n",
    "Y,X = np.mgrid[0:ny,0:nx]\n",
    "plt.figure(figsize=(16,float(ny)/nx*16))\n",
    "plt.xlim(1,nx-2)\n",
    "plt.ylim(1,ny-2)\n",
    "plt.contourf(X,Y,Dyvx-Dxvy,256)\n",
    "plt.streamplot(X,Y,vx,vy,color='white')\n"
   ]
  },
  {
   "cell_type": "markdown",
   "metadata": {},
   "source": [
    "### interactive plotting"
   ]
  },
  {
   "cell_type": "code",
   "execution_count": null,
   "metadata": {
    "collapsed": false
   },
   "outputs": [],
   "source": [
    "import glob\n",
    "glob.glob(\"ex4A*.npz\")"
   ]
  },
  {
   "cell_type": "code",
   "execution_count": null,
   "metadata": {
    "collapsed": false
   },
   "outputs": [],
   "source": [
    "import glob\n",
    "frames = []\n",
    "s = (slice(80,170,1),slice(20,220,1))\n",
    "\n",
    "for fn in sorted(glob.glob(\"ex4A*.npz\")):\n",
    "    vx,vy = np.load(fn)['v']\n",
    "    vx, vy  = vx[s],vy[s]\n",
    "    Dxvx,Dyvx = np.gradient(vx)\n",
    "    Dxvy,Dyvy = np.gradient(vy)\n",
    "    frames.append([vx, vy,Dyvx-Dxvy,Dxvx])\n"
   ]
  },
  {
   "cell_type": "code",
   "execution_count": null,
   "metadata": {
    "collapsed": false
   },
   "outputs": [],
   "source": [
    "print len(frames)\n"
   ]
  },
  {
   "cell_type": "code",
   "execution_count": null,
   "metadata": {
    "collapsed": false
   },
   "outputs": [],
   "source": [
    "from IPython.html.widgets import interact, interactive, fixed\n",
    "from IPython.html import widgets\n",
    "from IPython.display import display,clear_output\n",
    "ny,nx = frames[0][0].shape\n",
    "Y,X = np.mgrid[0:ny,0:nx]\n",
    "\n",
    "@interact(ith=widgets.IntSlider(min=0,max=len(frames)-1),figsize=widgets.IntSlider(min=0,max=20,value=6))\n",
    "def g(ith,figsize):\n",
    "  \n",
    "    plt.figure(figsize=(figsize,float(ny)/nx*figsize))\n",
    "\n",
    "    vx,vy=frames[ith][:2]\n",
    "    plt.xlim(1,nx-2)\n",
    "    plt.ylim(1,ny-2)\n",
    "    #plt.contourf(X,Y,frames[ith][2],levels=np.linspace(-0.002,0.002,256))\n",
    "    plt.imshow(frames[ith][0],vmax=0.1,vmin=-0.1,origin='top')\n",
    "    #plt.streamplot(X,Y,vx,vy,color='white')\n",
    "    \n",
    "    plt.show()"
   ]
  },
  {
   "cell_type": "code",
   "execution_count": null,
   "metadata": {
    "collapsed": false
   },
   "outputs": [],
   "source": [
    "plt.plot( [np.nanmax(f[0]) for f in frames] )"
   ]
  },
  {
   "cell_type": "code",
   "execution_count": null,
   "metadata": {
    "collapsed": false
   },
   "outputs": [],
   "source": []
  },
  {
   "cell_type": "code",
   "execution_count": null,
   "metadata": {
    "collapsed": true
   },
   "outputs": [],
   "source": []
  },
  {
   "cell_type": "code",
   "execution_count": null,
   "metadata": {
    "collapsed": true
   },
   "outputs": [],
   "source": []
  },
  {
   "cell_type": "code",
   "execution_count": null,
   "metadata": {
    "collapsed": true
   },
   "outputs": [],
   "source": []
  },
  {
   "cell_type": "code",
   "execution_count": null,
   "metadata": {
    "collapsed": false
   },
   "outputs": [],
   "source": []
  },
  {
   "cell_type": "code",
   "execution_count": null,
   "metadata": {
    "collapsed": false
   },
   "outputs": [],
   "source": []
  },
  {
   "cell_type": "markdown",
   "metadata": {},
   "source": [
    "## Geometry experimentation"
   ]
  },
  {
   "cell_type": "code",
   "execution_count": null,
   "metadata": {
    "collapsed": true
   },
   "outputs": [],
   "source": []
  },
  {
   "cell_type": "code",
   "execution_count": null,
   "metadata": {
    "collapsed": false
   },
   "outputs": [],
   "source": [
    "x0,y0,a = 15,8,4\n",
    "nx,ny=32,32\n",
    "hy,hx = np.mgrid[0:ny,0:nx]\n",
    "plt.figure(figsize=(10,float(ny)/nx*10))\n",
    "# plt.imshow( (hy>2*np.sin(2*hx/float(nx)*2*np.pi)+ny/2),interpolation='nearest') \n",
    "#plt.imshow( (hy>ny/2) | ((hy==ny/2) & (hx>nx/3.) & (hx<2*nx/3.) ),interpolation='nearest') \n",
    "plt.imshow( hy>5*np.sign(np.sin(2*hx/float(nx)*2*np.pi))+ny/2,interpolation='nearest') "
   ]
  },
  {
   "cell_type": "code",
   "execution_count": null,
   "metadata": {
    "collapsed": false
   },
   "outputs": [],
   "source": [
    "np.sign(-.2)"
   ]
  },
  {
   "cell_type": "code",
   "execution_count": null,
   "metadata": {
    "collapsed": true
   },
   "outputs": [],
   "source": []
  }
 ],
 "metadata": {
  "kernelspec": {
   "display_name": "IPython (Python 2)",
   "name": "python2"
  },
  "language_info": {
   "codemirror_mode": {
    "name": "ipython",
    "version": 2
   },
   "file_extension": ".py",
   "mimetype": "text/x-python",
   "name": "python",
   "nbconvert_exporter": "python",
   "pygments_lexer": "ipython2",
   "version": "2.7.6"
  },
  "signature": "sha256:c552ae90b0a61b2505598277f0d7387146f38ceb10ab577593aa6093bfdd8e53"
 },
 "nbformat": 4,
 "nbformat_minor": 0
}